{
 "cells": [
  {
   "cell_type": "markdown",
   "metadata": {},
   "source": [
    "# LAB-8\n",
    "\n",
    "### Author\n",
    "\n",
    "- [Navaneeth Sivakumar (21BAI1302)](https://github.com/Sivakumar-Navaneeth)"
   ]
  },
  {
   "cell_type": "markdown",
   "metadata": {},
   "source": [
    "### Gray Level Co-occurrence Matrix (GLCM)"
   ]
  },
  {
   "cell_type": "markdown",
   "metadata": {},
   "source": [
    "##### Features from GLCM\n",
    "##### Once the GLCM is computed, various statistical measures can be derived from it to characterize the texture and structure of the image. Some common features are\n",
    "\n",
    "- Contrast: Measures the local variations in the image. High contrast values indicate large differences between neighboring pixel intensities.\n",
    "\n",
    "- Dissimilarity: Measures the average difference in intensity between neighboring pixels. High dissimilarity values indicate greater heterogeneity in texture.\n",
    "\n",
    "- Homogeneity: Reflects the closeness of the distribution of elements in the GLCM to the GLCM diagonal. High homogeneity values indicate that elements are concentrated along the diagonal, suggesting a more uniform texture.\n",
    "\n",
    "- Energy (or Angular Second Moment): Represents the orderliness or homogeneity of the image. High energy values indicate more uniform texture.\n",
    "\n",
    "- Correlation: Measures the linear dependency between pixel pairs. High correlation values indicate a more predictable texture.\n",
    "\n"
   ]
  },
  {
   "cell_type": "code",
   "execution_count": 1,
   "metadata": {},
   "outputs": [
    {
     "name": "stdout",
     "output_type": "stream",
     "text": [
      "GLCM Shape: (256, 256, 1, 4)\n",
      "Contrast: [[47.24021371 80.57926536 35.48937435 72.51092702]]\n",
      "Dissimilarity: [[2.46168665 3.39869248 2.23707732 3.30395574]]\n",
      "Homogeneity: [[0.54131449 0.45131383 0.56412785 0.44710958]]\n",
      "Energy: [[0.07232535 0.06807916 0.07437124 0.06806592]]\n",
      "Correlation: [[0.98962389 0.9823126  0.99220654 0.98408363]]\n",
      "ASM: [[0.00523096 0.00463477 0.00553108 0.00463297]]\n"
     ]
    }
   ],
   "source": [
    "import numpy as np\n",
    "from skimage.feature import graycomatrix, graycoprops\n",
    "from skimage import io, color, img_as_ubyte\n",
    "\n",
    "def calculate_glcm(image_path, distances=[1], angles=[0, np.pi/4, np.pi/2, 3*np.pi/4], levels=256, symmetric=True, normed=True):\n",
    "    image = io.imread(image_path)\n",
    "    if len(image.shape) == 3:\n",
    "        image = color.rgb2gray(image)\n",
    "    \n",
    "    image = img_as_ubyte(image)\n",
    "    \n",
    "    glcm = graycomatrix(image, distances=distances, angles=angles, levels=levels, symmetric=symmetric, normed=normed)\n",
    "    \n",
    "    contrast = graycoprops(glcm, 'contrast')\n",
    "    dissimilarity = graycoprops(glcm, 'dissimilarity')\n",
    "    homogeneity = graycoprops(glcm, 'homogeneity')\n",
    "    energy = graycoprops(glcm, 'energy')\n",
    "    correlation = graycoprops(glcm, 'correlation')\n",
    "    ASM = graycoprops(glcm, 'ASM')\n",
    "    \n",
    "    return {\n",
    "        'glcm': glcm,\n",
    "        'contrast': contrast,\n",
    "        'dissimilarity': dissimilarity,\n",
    "        'homogeneity': homogeneity,\n",
    "        'energy': energy,\n",
    "        'correlation': correlation,\n",
    "        'ASM': ASM\n",
    "    }\n",
    "\n",
    "image_path = 'Data/zidane_gray.jpg'\n",
    "result = calculate_glcm(image_path)\n",
    "\n",
    "print(\"GLCM Shape:\", result['glcm'].shape)\n",
    "print(\"Contrast:\", result['contrast'])\n",
    "print(\"Dissimilarity:\", result['dissimilarity'])\n",
    "print(\"Homogeneity:\", result['homogeneity'])\n",
    "print(\"Energy:\", result['energy'])\n",
    "print(\"Correlation:\", result['correlation'])\n",
    "print(\"ASM:\", result['ASM'])"
   ]
  }
 ],
 "metadata": {
  "kernelspec": {
   "display_name": "testbed_69",
   "language": "python",
   "name": "python3"
  },
  "language_info": {
   "codemirror_mode": {
    "name": "ipython",
    "version": 3
   },
   "file_extension": ".py",
   "mimetype": "text/x-python",
   "name": "python",
   "nbconvert_exporter": "python",
   "pygments_lexer": "ipython3",
   "version": "3.11.7"
  }
 },
 "nbformat": 4,
 "nbformat_minor": 2
}
